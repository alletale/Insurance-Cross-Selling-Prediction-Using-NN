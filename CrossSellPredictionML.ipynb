{
  "nbformat": 4,
  "nbformat_minor": 0,
  "metadata": {
    "colab": {
      "provenance": []
    },
    "kernelspec": {
      "name": "python3",
      "display_name": "Python 3"
    },
    "language_info": {
      "name": "python"
    }
  },
  "cells": [
    {
      "cell_type": "markdown",
      "source": [
        "# Cross sell prediction Machine Learning (Neural Network)\n",
        "\n",
        "I'm going to build a model to predict whether the policyholders frokm past year will also interested in Vehicle insurance provided by the company."
      ],
      "metadata": {
        "id": "V07VsWhGA712"
      }
    },
    {
      "cell_type": "code",
      "execution_count": null,
      "metadata": {
        "colab": {
          "base_uri": "https://localhost:8080/"
        },
        "id": "WJrgACVBA2eK",
        "outputId": "731549d7-f1c1-40e9-cd3e-fc2328748c88"
      },
      "outputs": [
        {
          "output_type": "stream",
          "name": "stdout",
          "text": [
            "Requirement already satisfied: imblearn in /usr/local/lib/python3.7/dist-packages (0.0)\n",
            "Requirement already satisfied: imbalanced-learn in /usr/local/lib/python3.7/dist-packages (from imblearn) (0.8.1)\n",
            "Requirement already satisfied: scikit-learn>=0.24 in /usr/local/lib/python3.7/dist-packages (from imbalanced-learn->imblearn) (1.0.1)\n",
            "Requirement already satisfied: joblib>=0.11 in /usr/local/lib/python3.7/dist-packages (from imbalanced-learn->imblearn) (1.1.0)\n",
            "Requirement already satisfied: scipy>=0.19.1 in /usr/local/lib/python3.7/dist-packages (from imbalanced-learn->imblearn) (1.4.1)\n",
            "Requirement already satisfied: numpy>=1.13.3 in /usr/local/lib/python3.7/dist-packages (from imbalanced-learn->imblearn) (1.19.5)\n",
            "Requirement already satisfied: threadpoolctl>=2.0.0 in /usr/local/lib/python3.7/dist-packages (from scikit-learn>=0.24->imbalanced-learn->imblearn) (3.0.0)\n"
          ]
        }
      ],
      "source": [
        "!pip install imblearn\n",
        "\n",
        "import pandas as pd\n",
        "import numpy as np\n",
        "import matplotlib.pyplot as plt\n",
        "import seaborn as sns\n",
        "\n",
        "from sklearn.metrics import accuracy_score, f1_score, auc"
      ]
    },
    {
      "cell_type": "code",
      "source": [
        "train = pd.read_csv('train.csv')\n",
        "test = pd.read_csv('test.csv')"
      ],
      "metadata": {
        "id": "ubm0QJnFBXzA"
      },
      "execution_count": null,
      "outputs": []
    },
    {
      "cell_type": "markdown",
      "source": [
        "## Data Description\n",
        "I'm going to look if there are null fields. "
      ],
      "metadata": {
        "id": "-HSZEbPUCGXJ"
      }
    },
    {
      "cell_type": "code",
      "source": [
        "train.info()"
      ],
      "metadata": {
        "colab": {
          "base_uri": "https://localhost:8080/"
        },
        "id": "m7lYxrV7B-MN",
        "outputId": "5ee39da9-917a-43ed-9bb3-5b82fb04f1c9"
      },
      "execution_count": null,
      "outputs": [
        {
          "output_type": "stream",
          "name": "stdout",
          "text": [
            "<class 'pandas.core.frame.DataFrame'>\n",
            "RangeIndex: 298752 entries, 0 to 298751\n",
            "Data columns (total 12 columns):\n",
            " #   Column                Non-Null Count   Dtype  \n",
            "---  ------                --------------   -----  \n",
            " 0   id                    298752 non-null  int64  \n",
            " 1   Gender                298752 non-null  object \n",
            " 2   Age                   298752 non-null  int64  \n",
            " 3   Driving_License       298752 non-null  int64  \n",
            " 4   Region_Code           298752 non-null  float64\n",
            " 5   Previously_Insured    298752 non-null  int64  \n",
            " 6   Vehicle_Age           298752 non-null  object \n",
            " 7   Vehicle_Damage        298752 non-null  object \n",
            " 8   Annual_Premium        298752 non-null  float64\n",
            " 9   Policy_Sales_Channel  298752 non-null  float64\n",
            " 10  Vintage               298751 non-null  float64\n",
            " 11  Response              298751 non-null  float64\n",
            "dtypes: float64(5), int64(4), object(3)\n",
            "memory usage: 27.4+ MB\n"
          ]
        }
      ]
    },
    {
      "cell_type": "markdown",
      "source": [
        "I'm going to have a briefly look at the data.\n",
        "\n",
        "Policy sales channel has been anonymised. Actually it is a code for the channel of outreaching the customer: different agents, over mail, over phone, in persona, ads."
      ],
      "metadata": {
        "id": "BlSsrFDQCc2I"
      }
    },
    {
      "cell_type": "code",
      "source": [
        "train.describe()"
      ],
      "metadata": {
        "colab": {
          "base_uri": "https://localhost:8080/",
          "height": 317
        },
        "id": "cvEnNXtECUxl",
        "outputId": "b15342b6-f357-4888-9765-ababbcc19e13"
      },
      "execution_count": null,
      "outputs": [
        {
          "output_type": "execute_result",
          "data": {
            "text/html": [
              "<div>\n",
              "<style scoped>\n",
              "    .dataframe tbody tr th:only-of-type {\n",
              "        vertical-align: middle;\n",
              "    }\n",
              "\n",
              "    .dataframe tbody tr th {\n",
              "        vertical-align: top;\n",
              "    }\n",
              "\n",
              "    .dataframe thead th {\n",
              "        text-align: right;\n",
              "    }\n",
              "</style>\n",
              "<table border=\"1\" class=\"dataframe\">\n",
              "  <thead>\n",
              "    <tr style=\"text-align: right;\">\n",
              "      <th></th>\n",
              "      <th>id</th>\n",
              "      <th>Age</th>\n",
              "      <th>Driving_License</th>\n",
              "      <th>Region_Code</th>\n",
              "      <th>Previously_Insured</th>\n",
              "      <th>Annual_Premium</th>\n",
              "      <th>Policy_Sales_Channel</th>\n",
              "      <th>Vintage</th>\n",
              "      <th>Response</th>\n",
              "    </tr>\n",
              "  </thead>\n",
              "  <tbody>\n",
              "    <tr>\n",
              "      <th>count</th>\n",
              "      <td>298752.000000</td>\n",
              "      <td>298752.000000</td>\n",
              "      <td>298752.000000</td>\n",
              "      <td>298752.000000</td>\n",
              "      <td>298752.000000</td>\n",
              "      <td>298752.000000</td>\n",
              "      <td>298752.000000</td>\n",
              "      <td>298751.000000</td>\n",
              "      <td>298751.000000</td>\n",
              "    </tr>\n",
              "    <tr>\n",
              "      <th>mean</th>\n",
              "      <td>149376.500000</td>\n",
              "      <td>38.815235</td>\n",
              "      <td>0.997858</td>\n",
              "      <td>26.383552</td>\n",
              "      <td>0.457828</td>\n",
              "      <td>30537.424633</td>\n",
              "      <td>112.116716</td>\n",
              "      <td>154.336260</td>\n",
              "      <td>0.122999</td>\n",
              "    </tr>\n",
              "    <tr>\n",
              "      <th>std</th>\n",
              "      <td>86242.418148</td>\n",
              "      <td>15.494707</td>\n",
              "      <td>0.046235</td>\n",
              "      <td>13.231482</td>\n",
              "      <td>0.498219</td>\n",
              "      <td>17247.686932</td>\n",
              "      <td>54.142181</td>\n",
              "      <td>83.648025</td>\n",
              "      <td>0.328436</td>\n",
              "    </tr>\n",
              "    <tr>\n",
              "      <th>min</th>\n",
              "      <td>1.000000</td>\n",
              "      <td>20.000000</td>\n",
              "      <td>0.000000</td>\n",
              "      <td>0.000000</td>\n",
              "      <td>0.000000</td>\n",
              "      <td>2630.000000</td>\n",
              "      <td>1.000000</td>\n",
              "      <td>10.000000</td>\n",
              "      <td>0.000000</td>\n",
              "    </tr>\n",
              "    <tr>\n",
              "      <th>25%</th>\n",
              "      <td>74688.750000</td>\n",
              "      <td>25.000000</td>\n",
              "      <td>1.000000</td>\n",
              "      <td>15.000000</td>\n",
              "      <td>0.000000</td>\n",
              "      <td>24391.000000</td>\n",
              "      <td>29.000000</td>\n",
              "      <td>82.000000</td>\n",
              "      <td>0.000000</td>\n",
              "    </tr>\n",
              "    <tr>\n",
              "      <th>50%</th>\n",
              "      <td>149376.500000</td>\n",
              "      <td>36.000000</td>\n",
              "      <td>1.000000</td>\n",
              "      <td>28.000000</td>\n",
              "      <td>0.000000</td>\n",
              "      <td>31645.000000</td>\n",
              "      <td>133.000000</td>\n",
              "      <td>154.000000</td>\n",
              "      <td>0.000000</td>\n",
              "    </tr>\n",
              "    <tr>\n",
              "      <th>75%</th>\n",
              "      <td>224064.250000</td>\n",
              "      <td>49.000000</td>\n",
              "      <td>1.000000</td>\n",
              "      <td>35.000000</td>\n",
              "      <td>1.000000</td>\n",
              "      <td>39361.250000</td>\n",
              "      <td>152.000000</td>\n",
              "      <td>227.000000</td>\n",
              "      <td>0.000000</td>\n",
              "    </tr>\n",
              "    <tr>\n",
              "      <th>max</th>\n",
              "      <td>298752.000000</td>\n",
              "      <td>85.000000</td>\n",
              "      <td>1.000000</td>\n",
              "      <td>52.000000</td>\n",
              "      <td>1.000000</td>\n",
              "      <td>540165.000000</td>\n",
              "      <td>163.000000</td>\n",
              "      <td>299.000000</td>\n",
              "      <td>1.000000</td>\n",
              "    </tr>\n",
              "  </tbody>\n",
              "</table>\n",
              "</div>"
            ],
            "text/plain": [
              "                  id            Age  ...        Vintage       Response\n",
              "count  298752.000000  298752.000000  ...  298751.000000  298751.000000\n",
              "mean   149376.500000      38.815235  ...     154.336260       0.122999\n",
              "std     86242.418148      15.494707  ...      83.648025       0.328436\n",
              "min         1.000000      20.000000  ...      10.000000       0.000000\n",
              "25%     74688.750000      25.000000  ...      82.000000       0.000000\n",
              "50%    149376.500000      36.000000  ...     154.000000       0.000000\n",
              "75%    224064.250000      49.000000  ...     227.000000       0.000000\n",
              "max    298752.000000      85.000000  ...     299.000000       1.000000\n",
              "\n",
              "[8 rows x 9 columns]"
            ]
          },
          "metadata": {},
          "execution_count": 4
        }
      ]
    },
    {
      "cell_type": "markdown",
      "source": [
        "##Exploratory Data Analysis\n",
        "\n",
        "Let's have a look at the basic traits of the data e.g. what is the distribution of numerical features?"
      ],
      "metadata": {
        "id": "qJ2HpEuXC4k7"
      }
    },
    {
      "cell_type": "code",
      "source": [
        "#Dependent variable\n",
        "\n",
        "sns.countplot(train['Response'])\n",
        "plt.title(\"Distribution of response\")"
      ],
      "metadata": {
        "colab": {
          "base_uri": "https://localhost:8080/",
          "height": 366
        },
        "id": "zJO4NFMBCjSg",
        "outputId": "e9d3083f-8d25-42cf-efee-528941d1b3c2"
      },
      "execution_count": null,
      "outputs": [
        {
          "output_type": "stream",
          "name": "stderr",
          "text": [
            "/usr/local/lib/python3.7/dist-packages/seaborn/_decorators.py:43: FutureWarning: Pass the following variable as a keyword arg: x. From version 0.12, the only valid positional argument will be `data`, and passing other arguments without an explicit keyword will result in an error or misinterpretation.\n",
            "  FutureWarning\n"
          ]
        },
        {
          "output_type": "execute_result",
          "data": {
            "text/plain": [
              "Text(0.5, 1.0, 'Distribution of response')"
            ]
          },
          "metadata": {},
          "execution_count": 6
        },
        {
          "output_type": "display_data",
          "data": {
            "image/png": "[encoded data removed]",
            "text/plain": [
              "<Figure size 432x288 with 1 Axes>"
            ]
          },
          "metadata": {
            "needs_background": "light"
          }
        }
      ]
    },
    {
      "cell_type": "code",
      "source": [
        "#Calculating positive and negative sample in percentage \n",
        "positive_percent = len(train[train['Response'] == 1])/len(train)*100 \n",
        "negative_percent = len(train[train['Response'] == 0])/len(train)*100\n",
        "percentages = [positive_percent,negative_percent]\n",
        "\n",
        "#Creating a pie chart\n",
        "plt.figure(figsize = (6,8))\n",
        "plt.pie(percentages, labels=['Interested','Not Interested'], autopct = '%.1f%%', colors = ['#aecc35', 'cyan'])\n",
        "plt.title('Positive and negative samples (Percentages)', fontsize = 18)\n",
        "plt.show()"
      ],
      "metadata": {
        "colab": {
          "base_uri": "https://localhost:8080/",
          "height": 386
        },
        "id": "ewpJWl12ENk8",
        "outputId": "acdb8436-3fc7-4730-a235-43b30440fb6e"
      },
      "execution_count": null,
      "outputs": [
        {
          "output_type": "display_data",
          "data": {
            "image/png": "[encoded data removed]",
            "text/plain": [
              "<Figure size 432x576 with 1 Axes>"
            ]
          },
          "metadata": {}
        }
      ]
    },
    {
      "cell_type": "code",
      "source": [
        "#Independent variables\n",
        "sns.countplot(train['Gender'])\n",
        "plt.title(\"Distribution of gender\")"
      ],
      "metadata": {
        "colab": {
          "base_uri": "https://localhost:8080/",
          "height": 366
        },
        "id": "c9X1hQDmDSmL",
        "outputId": "9a732332-a38a-4049-8c04-136fdb750398"
      },
      "execution_count": null,
      "outputs": [
        {
          "output_type": "stream",
          "name": "stderr",
          "text": [
            "/usr/local/lib/python3.7/dist-packages/seaborn/_decorators.py:43: FutureWarning: Pass the following variable as a keyword arg: x. From version 0.12, the only valid positional argument will be `data`, and passing other arguments without an explicit keyword will result in an error or misinterpretation.\n",
            "  FutureWarning\n"
          ]
        },
        {
          "output_type": "execute_result",
          "data": {
            "text/plain": [
              "Text(0.5, 1.0, 'Distribution of gender')"
            ]
          },
          "metadata": {},
          "execution_count": 7
        },
        {
          "output_type": "display_data",
          "data": {
            "image/png": "[encoded data removed]",
            "text/plain": [
              "<Figure size 432x288 with 1 Axes>"
            ]
          },
          "metadata": {
            "needs_background": "light"
          }
        }
      ]
    },
    {
      "cell_type": "code",
      "source": [
        "#Independent variable\n",
        "sns.countplot(train['Driving_License'])\n",
        "plt.title(\"Distribution of Driving License\")"
      ],
      "metadata": {
        "colab": {
          "base_uri": "https://localhost:8080/",
          "height": 367
        },
        "id": "g_m36O-2DhEx",
        "outputId": "f5c837e8-fdeb-4eb0-cdfd-e23a36c94ae0"
      },
      "execution_count": null,
      "outputs": [
        {
          "output_type": "stream",
          "name": "stderr",
          "text": [
            "/usr/local/lib/python3.7/dist-packages/seaborn/_decorators.py:43: FutureWarning: Pass the following variable as a keyword arg: x. From version 0.12, the only valid positional argument will be `data`, and passing other arguments without an explicit keyword will result in an error or misinterpretation.\n",
            "  FutureWarning\n"
          ]
        },
        {
          "output_type": "execute_result",
          "data": {
            "text/plain": [
              "Text(0.5, 1.0, 'Distribution of Driving License')"
            ]
          },
          "metadata": {},
          "execution_count": 8
        },
        {
          "output_type": "display_data",
          "data": {
            "image/png": "[encoded data removed]",
            "text/plain": [
              "<Figure size 432x288 with 1 Axes>"
            ]
          },
          "metadata": {
            "needs_background": "light"
          }
        }
      ]
    },
    {
      "cell_type": "code",
      "source": [
        "#Continuous variables --> we get the distribution of data \n",
        "sns.distplot(train['Annual_Premium'])\n",
        "plt.title(\"Distribution of Annual Premium\")"
      ],
      "metadata": {
        "colab": {
          "base_uri": "https://localhost:8080/",
          "height": 367
        },
        "id": "-5RjCttbDokn",
        "outputId": "a27a31c8-b70a-4485-ca6d-2085305438b0"
      },
      "execution_count": null,
      "outputs": [
        {
          "output_type": "stream",
          "name": "stderr",
          "text": [
            "/usr/local/lib/python3.7/dist-packages/seaborn/distributions.py:2619: FutureWarning: `distplot` is a deprecated function and will be removed in a future version. Please adapt your code to use either `displot` (a figure-level function with similar flexibility) or `histplot` (an axes-level function for histograms).\n",
            "  warnings.warn(msg, FutureWarning)\n"
          ]
        },
        {
          "output_type": "execute_result",
          "data": {
            "text/plain": [
              "Text(0.5, 1.0, 'Distribution of Annual Premium')"
            ]
          },
          "metadata": {},
          "execution_count": 9
        },
        {
          "output_type": "display_data",
          "data": {
            "image/png": "[encoded data removed]",
            "text/plain": [
              "<Figure size 432x288 with 1 Axes>"
            ]
          },
          "metadata": {
            "needs_background": "light"
          }
        }
      ]
    },
    {
      "cell_type": "code",
      "source": [
        "#Continuous variables  \n",
        "sns.distplot(train['Age'])\n",
        "plt.title(\"Distribution of Age\")"
      ],
      "metadata": {
        "colab": {
          "base_uri": "https://localhost:8080/",
          "height": 366
        },
        "id": "z1spmrOQEAuH",
        "outputId": "06353e6e-a380-452b-cef0-e452b649e358"
      },
      "execution_count": null,
      "outputs": [
        {
          "output_type": "stream",
          "name": "stderr",
          "text": [
            "/usr/local/lib/python3.7/dist-packages/seaborn/distributions.py:2619: FutureWarning: `distplot` is a deprecated function and will be removed in a future version. Please adapt your code to use either `displot` (a figure-level function with similar flexibility) or `histplot` (an axes-level function for histograms).\n",
            "  warnings.warn(msg, FutureWarning)\n"
          ]
        },
        {
          "output_type": "execute_result",
          "data": {
            "text/plain": [
              "Text(0.5, 1.0, 'Distribution of Age')"
            ]
          },
          "metadata": {},
          "execution_count": 11
        },
        {
          "output_type": "display_data",
          "data": {
            "image/png": "[encoded data removed]",
            "text/plain": [
              "<Figure size 432x288 with 1 Axes>"
            ]
          },
          "metadata": {
            "needs_background": "light"
          }
        }
      ]
    },
    {
      "cell_type": "code",
      "source": [
        "#EDA -- Bi-variable \n",
        "train.groupby(\"Gender\")[\"Response\"].value_counts(normalize=True)"
      ],
      "metadata": {
        "colab": {
          "base_uri": "https://localhost:8080/"
        },
        "id": "zUhSUlOMI1l-",
        "outputId": "75efa9e4-1e2f-43d3-a707-c2e132d715c9"
      },
      "execution_count": null,
      "outputs": [
        {
          "output_type": "execute_result",
          "data": {
            "text/plain": [
              "Gender  Response\n",
              "Female  0.0         0.895548\n",
              "        1.0         0.104452\n",
              "Male    0.0         0.861235\n",
              "        1.0         0.138765\n",
              "Name: Response, dtype: float64"
            ]
          },
          "metadata": {},
          "execution_count": 12
        }
      ]
    },
    {
      "cell_type": "code",
      "source": [
        "#Plotting results\n",
        "train.groupby(\"Gender\")['Response'].value_counts().unstack().plot(kind='bar');\n",
        "plt.title(\"Distribution of the Dependent Variable by Gender\");\n",
        "plt.xticks(rotation = 360);\n",
        "plt.ylabel(\"Count\");"
      ],
      "metadata": {
        "colab": {
          "base_uri": "https://localhost:8080/",
          "height": 295
        },
        "id": "_igWwupRJPgd",
        "outputId": "3d2b0e8c-0b5a-4348-fabe-95c7acfceedf"
      },
      "execution_count": null,
      "outputs": [
        {
          "output_type": "display_data",
          "data": {
            "image/png": "[encoded data removed]",
            "text/plain": [
              "<Figure size 432x288 with 1 Axes>"
            ]
          },
          "metadata": {
            "needs_background": "light"
          }
        }
      ]
    },
    {
      "cell_type": "code",
      "source": [
        "#Correlation analysis \n",
        "\n",
        "plt.figure(figsize = (18,8))\n",
        "sns.heatmap(train.corr(), annot = True)\n",
        "plt.show()"
      ],
      "metadata": {
        "colab": {
          "base_uri": "https://localhost:8080/",
          "height": 426
        },
        "id": "_0FGy5NMJtN9",
        "outputId": "643b6a93-398b-46d8-c76a-3bfa70f7dfd9"
      },
      "execution_count": null,
      "outputs": [
        {
          "output_type": "display_data",
          "data": {
            "image/png": "[encoded data removed]",
            "text/plain": [
              "<Figure size 1296x576 with 2 Axes>"
            ]
          },
          "metadata": {
            "needs_background": "light"
          }
        }
      ]
    },
    {
      "cell_type": "markdown",
      "source": [
        "## Feature Engineering \n",
        "Feature Engineering is a work of art in data science and machine learning. It creates features from existing raw data in order to incrememnt the predictive power of the machine learning algorithms.\n",
        "\n",
        "I'm going to create new features using different strategic combinations of existing variables:\n",
        "1. Mean premium damage\n",
        "2. Mean premium vehicle age\n",
        "3. Mean premium per Region code\n",
        "4. Mean premium per Policy sales channel"
      ],
      "metadata": {
        "id": "TBZshN6GLz4y"
      }
    },
    {
      "cell_type": "code",
      "source": [
        "# Let's combine the data\n",
        "ntrain = train.shape[0]\n",
        "ntest = test.shape[0]\n",
        "y = train['Response']\n",
        "all_data = pd.concat((train,test)).reset_index(drop=True)\n",
        "all_data = all_data.drop(['Response', 'id'],axis = 1)\n",
        "print(\"all_data size is : {}\".format(all_data.shape))"
      ],
      "metadata": {
        "colab": {
          "base_uri": "https://localhost:8080/"
        },
        "id": "7AFNsUSoLzOM",
        "outputId": "b8c11405-ac21-4382-ea29-891e9fc75b96"
      },
      "execution_count": null,
      "outputs": [
        {
          "output_type": "stream",
          "name": "stdout",
          "text": [
            "all_data size is : (425789, 10)\n"
          ]
        }
      ]
    },
    {
      "cell_type": "code",
      "source": [
        "#Combining data\n",
        "all_data['Mean_Premium_Damage'] = all_data.groupby('Vehicle_Damage')['Annual_Premium'].transform('mean')\n",
        "all_data['Mean_Premium_VehicleAge'] = all_data.groupby('Vehicle_Age')['Annual_Premium'].transform('mean')\n",
        "all_data['Mean_Premium_Per_Region_Code'] = all_data.groupby(\"Region_Code\")['Annual_Premium'].transform('mean')\n",
        "all_data['Mean_Premium_Per_Policy_Sales_Channel'] = all_data.groupby(\"Policy_Sales_Channel\")['Annual_Premium'].transform('mean')\n",
        "all_data.head()\n"
      ],
      "metadata": {
        "id": "cTe1qqkLKKMg",
        "colab": {
          "base_uri": "https://localhost:8080/",
          "height": 224
        },
        "outputId": "855e5b55-c3ea-4358-c3d9-0b84656d9573"
      },
      "execution_count": null,
      "outputs": [
        {
          "output_type": "execute_result",
          "data": {
            "text/html": [
              "<div>\n",
              "<style scoped>\n",
              "    .dataframe tbody tr th:only-of-type {\n",
              "        vertical-align: middle;\n",
              "    }\n",
              "\n",
              "    .dataframe tbody tr th {\n",
              "        vertical-align: top;\n",
              "    }\n",
              "\n",
              "    .dataframe thead th {\n",
              "        text-align: right;\n",
              "    }\n",
              "</style>\n",
              "<table border=\"1\" class=\"dataframe\">\n",
              "  <thead>\n",
              "    <tr style=\"text-align: right;\">\n",
              "      <th></th>\n",
              "      <th>Gender</th>\n",
              "      <th>Age</th>\n",
              "      <th>Driving_License</th>\n",
              "      <th>Region_Code</th>\n",
              "      <th>Previously_Insured</th>\n",
              "      <th>Vehicle_Age</th>\n",
              "      <th>Vehicle_Damage</th>\n",
              "      <th>Annual_Premium</th>\n",
              "      <th>Policy_Sales_Channel</th>\n",
              "      <th>Vintage</th>\n",
              "      <th>Mean_Premium_Damage</th>\n",
              "      <th>Mean_Premium_VehicleAge</th>\n",
              "      <th>Mean_Premium_Per_Region_Code</th>\n",
              "      <th>Mean_Premium_Per_Policy_Sales_Channel</th>\n",
              "    </tr>\n",
              "  </thead>\n",
              "  <tbody>\n",
              "    <tr>\n",
              "      <th>0</th>\n",
              "      <td>Male</td>\n",
              "      <td>44</td>\n",
              "      <td>1</td>\n",
              "      <td>28.0</td>\n",
              "      <td>0</td>\n",
              "      <td>&gt; 2 Years</td>\n",
              "      <td>Yes</td>\n",
              "      <td>40454.0</td>\n",
              "      <td>26.0</td>\n",
              "      <td>217.0</td>\n",
              "      <td>30699.730849</td>\n",
              "      <td>35624.269700</td>\n",
              "      <td>38656.901618</td>\n",
              "      <td>33613.395165</td>\n",
              "    </tr>\n",
              "    <tr>\n",
              "      <th>1</th>\n",
              "      <td>Male</td>\n",
              "      <td>76</td>\n",
              "      <td>1</td>\n",
              "      <td>3.0</td>\n",
              "      <td>0</td>\n",
              "      <td>1-2 Year</td>\n",
              "      <td>No</td>\n",
              "      <td>33536.0</td>\n",
              "      <td>26.0</td>\n",
              "      <td>183.0</td>\n",
              "      <td>30364.665934</td>\n",
              "      <td>30482.220793</td>\n",
              "      <td>24445.899431</td>\n",
              "      <td>33613.395165</td>\n",
              "    </tr>\n",
              "    <tr>\n",
              "      <th>2</th>\n",
              "      <td>Male</td>\n",
              "      <td>47</td>\n",
              "      <td>1</td>\n",
              "      <td>28.0</td>\n",
              "      <td>0</td>\n",
              "      <td>&gt; 2 Years</td>\n",
              "      <td>Yes</td>\n",
              "      <td>38294.0</td>\n",
              "      <td>26.0</td>\n",
              "      <td>27.0</td>\n",
              "      <td>30699.730849</td>\n",
              "      <td>35624.269700</td>\n",
              "      <td>38656.901618</td>\n",
              "      <td>33613.395165</td>\n",
              "    </tr>\n",
              "    <tr>\n",
              "      <th>3</th>\n",
              "      <td>Male</td>\n",
              "      <td>21</td>\n",
              "      <td>1</td>\n",
              "      <td>11.0</td>\n",
              "      <td>1</td>\n",
              "      <td>&lt; 1 Year</td>\n",
              "      <td>No</td>\n",
              "      <td>28619.0</td>\n",
              "      <td>152.0</td>\n",
              "      <td>203.0</td>\n",
              "      <td>30364.665934</td>\n",
              "      <td>30102.209234</td>\n",
              "      <td>27703.286513</td>\n",
              "      <td>30905.431961</td>\n",
              "    </tr>\n",
              "    <tr>\n",
              "      <th>4</th>\n",
              "      <td>Female</td>\n",
              "      <td>29</td>\n",
              "      <td>1</td>\n",
              "      <td>41.0</td>\n",
              "      <td>1</td>\n",
              "      <td>&lt; 1 Year</td>\n",
              "      <td>No</td>\n",
              "      <td>27496.0</td>\n",
              "      <td>152.0</td>\n",
              "      <td>39.0</td>\n",
              "      <td>30364.665934</td>\n",
              "      <td>30102.209234</td>\n",
              "      <td>30918.820242</td>\n",
              "      <td>30905.431961</td>\n",
              "    </tr>\n",
              "  </tbody>\n",
              "</table>\n",
              "</div>"
            ],
            "text/plain": [
              "   Gender  ...  Mean_Premium_Per_Policy_Sales_Channel\n",
              "0    Male  ...                           33613.395165\n",
              "1    Male  ...                           33613.395165\n",
              "2    Male  ...                           33613.395165\n",
              "3    Male  ...                           30905.431961\n",
              "4  Female  ...                           30905.431961\n",
              "\n",
              "[5 rows x 14 columns]"
            ]
          },
          "metadata": {},
          "execution_count": 39
        }
      ]
    },
    {
      "cell_type": "markdown",
      "source": [
        "Generally, the below 2 techniques are used for feature engineering of categorical variables.\n",
        "1. One-hot encoding\n",
        "2. Label encoding\n",
        "\n",
        "This can be done using the “get_dummies” functionality "
      ],
      "metadata": {
        "id": "OemF4ME-PbcX"
      }
    },
    {
      "cell_type": "code",
      "source": [
        "gender = {'Male': 0, 'Female': 1}\n",
        "driving_licence = {0: 0, 1: 1}\n",
        "previously_insured = {0:1, 1:0}\n",
        "vehicle_age ={'> 2 Years':2, '1-2 Year':1, '< 1 Year':0}\n",
        "vehicle_damage = {'Yes':1, 'No':0}\n"
      ],
      "metadata": {
        "id": "xmujAyIDOhFT"
      },
      "execution_count": null,
      "outputs": []
    },
    {
      "cell_type": "code",
      "source": [
        "all_data['Gender'] = all_data['Gender'].map(gender)\n",
        "all_data['Driving_License'] = all_data['Driving_License'].map(driving_licence)\n",
        "all_data['Previously_Insured'] = all_data['Previously_Insured'].map(previously_insured)\n",
        "all_data['Vehicle_Age'] = all_data['Vehicle_Age'].map(vehicle_age)\n",
        "all_data['Vehicle_Damage'] = all_data['Vehicle_Damage'].map(vehicle_damage)\n",
        "\n",
        "all_data.head()"
      ],
      "metadata": {
        "colab": {
          "base_uri": "https://localhost:8080/",
          "height": 224
        },
        "id": "6i7uHfEAQO80",
        "outputId": "9a6858b8-c54e-40e7-d118-28e2a362a185"
      },
      "execution_count": null,
      "outputs": [
        {
          "output_type": "execute_result",
          "data": {
            "text/html": [
              "<div>\n",
              "<style scoped>\n",
              "    .dataframe tbody tr th:only-of-type {\n",
              "        vertical-align: middle;\n",
              "    }\n",
              "\n",
              "    .dataframe tbody tr th {\n",
              "        vertical-align: top;\n",
              "    }\n",
              "\n",
              "    .dataframe thead th {\n",
              "        text-align: right;\n",
              "    }\n",
              "</style>\n",
              "<table border=\"1\" class=\"dataframe\">\n",
              "  <thead>\n",
              "    <tr style=\"text-align: right;\">\n",
              "      <th></th>\n",
              "      <th>Gender</th>\n",
              "      <th>Age</th>\n",
              "      <th>Driving_License</th>\n",
              "      <th>Region_Code</th>\n",
              "      <th>Previously_Insured</th>\n",
              "      <th>Vehicle_Age</th>\n",
              "      <th>Vehicle_Damage</th>\n",
              "      <th>Annual_Premium</th>\n",
              "      <th>Policy_Sales_Channel</th>\n",
              "      <th>Vintage</th>\n",
              "      <th>Mean_Premium_Damage</th>\n",
              "      <th>Mean_Premium_VehicleAge</th>\n",
              "      <th>Mean_Premium_Per_Region_Code</th>\n",
              "      <th>Mean_Premium_Per_Policy_Sales_Channel</th>\n",
              "    </tr>\n",
              "  </thead>\n",
              "  <tbody>\n",
              "    <tr>\n",
              "      <th>0</th>\n",
              "      <td>0</td>\n",
              "      <td>44</td>\n",
              "      <td>1</td>\n",
              "      <td>28.0</td>\n",
              "      <td>1</td>\n",
              "      <td>2</td>\n",
              "      <td>1</td>\n",
              "      <td>40454.0</td>\n",
              "      <td>26.0</td>\n",
              "      <td>217.0</td>\n",
              "      <td>30699.730849</td>\n",
              "      <td>35624.269700</td>\n",
              "      <td>38656.901618</td>\n",
              "      <td>33613.395165</td>\n",
              "    </tr>\n",
              "    <tr>\n",
              "      <th>1</th>\n",
              "      <td>0</td>\n",
              "      <td>76</td>\n",
              "      <td>1</td>\n",
              "      <td>3.0</td>\n",
              "      <td>1</td>\n",
              "      <td>1</td>\n",
              "      <td>0</td>\n",
              "      <td>33536.0</td>\n",
              "      <td>26.0</td>\n",
              "      <td>183.0</td>\n",
              "      <td>30364.665934</td>\n",
              "      <td>30482.220793</td>\n",
              "      <td>24445.899431</td>\n",
              "      <td>33613.395165</td>\n",
              "    </tr>\n",
              "    <tr>\n",
              "      <th>2</th>\n",
              "      <td>0</td>\n",
              "      <td>47</td>\n",
              "      <td>1</td>\n",
              "      <td>28.0</td>\n",
              "      <td>1</td>\n",
              "      <td>2</td>\n",
              "      <td>1</td>\n",
              "      <td>38294.0</td>\n",
              "      <td>26.0</td>\n",
              "      <td>27.0</td>\n",
              "      <td>30699.730849</td>\n",
              "      <td>35624.269700</td>\n",
              "      <td>38656.901618</td>\n",
              "      <td>33613.395165</td>\n",
              "    </tr>\n",
              "    <tr>\n",
              "      <th>3</th>\n",
              "      <td>0</td>\n",
              "      <td>21</td>\n",
              "      <td>1</td>\n",
              "      <td>11.0</td>\n",
              "      <td>0</td>\n",
              "      <td>0</td>\n",
              "      <td>0</td>\n",
              "      <td>28619.0</td>\n",
              "      <td>152.0</td>\n",
              "      <td>203.0</td>\n",
              "      <td>30364.665934</td>\n",
              "      <td>30102.209234</td>\n",
              "      <td>27703.286513</td>\n",
              "      <td>30905.431961</td>\n",
              "    </tr>\n",
              "    <tr>\n",
              "      <th>4</th>\n",
              "      <td>1</td>\n",
              "      <td>29</td>\n",
              "      <td>1</td>\n",
              "      <td>41.0</td>\n",
              "      <td>0</td>\n",
              "      <td>0</td>\n",
              "      <td>0</td>\n",
              "      <td>27496.0</td>\n",
              "      <td>152.0</td>\n",
              "      <td>39.0</td>\n",
              "      <td>30364.665934</td>\n",
              "      <td>30102.209234</td>\n",
              "      <td>30918.820242</td>\n",
              "      <td>30905.431961</td>\n",
              "    </tr>\n",
              "  </tbody>\n",
              "</table>\n",
              "</div>"
            ],
            "text/plain": [
              "   Gender  ...  Mean_Premium_Per_Policy_Sales_Channel\n",
              "0       0  ...                           33613.395165\n",
              "1       0  ...                           33613.395165\n",
              "2       0  ...                           33613.395165\n",
              "3       0  ...                           30905.431961\n",
              "4       1  ...                           30905.431961\n",
              "\n",
              "[5 rows x 14 columns]"
            ]
          },
          "metadata": {},
          "execution_count": 41
        }
      ]
    },
    {
      "cell_type": "markdown",
      "source": [
        "## Scaling the numerical features"
      ],
      "metadata": {
        "id": "4y1ZV6elTO6f"
      }
    },
    {
      "cell_type": "code",
      "source": [
        "from sklearn.preprocessing import StandardScaler\n",
        "\n",
        "#Numerical columns\n",
        "numerical_cols = ['Age','Vintage','Region_Code','Policy_Sales_Channel']\n",
        "\n",
        "sc = StandardScaler()\n",
        "all_data[numerical_cols] = sc.fit_transform(all_data[numerical_cols])\n",
        "\n",
        "mean_cols = ['Mean_Premium_Damage', 'Mean_Premium_VehicleAge', 'Mean_Premium_Per_Region_Code','Mean_Premium_Per_Policy_Sales_Channel']\n",
        "\n",
        "mm = MinMaxScaler()\n",
        "all_data[['Annual_Premium']] = mm.fit_transform(all_data[['Annual_Premium']])\n",
        "all_data[mean_cols] = mm.fit_transform(all_data[mean_cols])\n",
        "\n",
        "all_data.head()"
      ],
      "metadata": {
        "colab": {
          "base_uri": "https://localhost:8080/",
          "height": 224
        },
        "id": "FILOatKpQ7ZO",
        "outputId": "3b1902db-3595-4be5-8764-a33c0ee3bdb6"
      },
      "execution_count": null,
      "outputs": [
        {
          "output_type": "execute_result",
          "data": {
            "text/html": [
              "<div>\n",
              "<style scoped>\n",
              "    .dataframe tbody tr th:only-of-type {\n",
              "        vertical-align: middle;\n",
              "    }\n",
              "\n",
              "    .dataframe tbody tr th {\n",
              "        vertical-align: top;\n",
              "    }\n",
              "\n",
              "    .dataframe thead th {\n",
              "        text-align: right;\n",
              "    }\n",
              "</style>\n",
              "<table border=\"1\" class=\"dataframe\">\n",
              "  <thead>\n",
              "    <tr style=\"text-align: right;\">\n",
              "      <th></th>\n",
              "      <th>Gender</th>\n",
              "      <th>Age</th>\n",
              "      <th>Driving_License</th>\n",
              "      <th>Region_Code</th>\n",
              "      <th>Previously_Insured</th>\n",
              "      <th>Vehicle_Age</th>\n",
              "      <th>Vehicle_Damage</th>\n",
              "      <th>Annual_Premium</th>\n",
              "      <th>Policy_Sales_Channel</th>\n",
              "      <th>Vintage</th>\n",
              "      <th>Mean_Premium_Damage</th>\n",
              "      <th>Mean_Premium_VehicleAge</th>\n",
              "      <th>Mean_Premium_Per_Region_Code</th>\n",
              "      <th>Mean_Premium_Per_Policy_Sales_Channel</th>\n",
              "    </tr>\n",
              "  </thead>\n",
              "  <tbody>\n",
              "    <tr>\n",
              "      <th>0</th>\n",
              "      <td>0</td>\n",
              "      <td>0.335752</td>\n",
              "      <td>1</td>\n",
              "      <td>0.120504</td>\n",
              "      <td>1</td>\n",
              "      <td>2</td>\n",
              "      <td>1</td>\n",
              "      <td>0.070366</td>\n",
              "      <td>-1.586811</td>\n",
              "      <td>0.749165</td>\n",
              "      <td>1.0</td>\n",
              "      <td>1.000000</td>\n",
              "      <td>1.000000</td>\n",
              "      <td>0.632666</td>\n",
              "    </tr>\n",
              "    <tr>\n",
              "      <th>1</th>\n",
              "      <td>0</td>\n",
              "      <td>2.402125</td>\n",
              "      <td>1</td>\n",
              "      <td>-1.769845</td>\n",
              "      <td>1</td>\n",
              "      <td>1</td>\n",
              "      <td>0</td>\n",
              "      <td>0.057496</td>\n",
              "      <td>-1.586811</td>\n",
              "      <td>0.342719</td>\n",
              "      <td>0.0</td>\n",
              "      <td>0.068817</td>\n",
              "      <td>0.604839</td>\n",
              "      <td>0.632666</td>\n",
              "    </tr>\n",
              "    <tr>\n",
              "      <th>2</th>\n",
              "      <td>0</td>\n",
              "      <td>0.529475</td>\n",
              "      <td>1</td>\n",
              "      <td>0.120504</td>\n",
              "      <td>1</td>\n",
              "      <td>2</td>\n",
              "      <td>1</td>\n",
              "      <td>0.066347</td>\n",
              "      <td>-1.586811</td>\n",
              "      <td>-1.522152</td>\n",
              "      <td>1.0</td>\n",
              "      <td>1.000000</td>\n",
              "      <td>1.000000</td>\n",
              "      <td>0.632666</td>\n",
              "    </tr>\n",
              "    <tr>\n",
              "      <th>3</th>\n",
              "      <td>0</td>\n",
              "      <td>-1.149453</td>\n",
              "      <td>1</td>\n",
              "      <td>-1.164933</td>\n",
              "      <td>0</td>\n",
              "      <td>0</td>\n",
              "      <td>0</td>\n",
              "      <td>0.048348</td>\n",
              "      <td>0.737447</td>\n",
              "      <td>0.581805</td>\n",
              "      <td>0.0</td>\n",
              "      <td>0.000000</td>\n",
              "      <td>0.695416</td>\n",
              "      <td>0.577370</td>\n",
              "    </tr>\n",
              "    <tr>\n",
              "      <th>4</th>\n",
              "      <td>1</td>\n",
              "      <td>-0.632860</td>\n",
              "      <td>1</td>\n",
              "      <td>1.103486</td>\n",
              "      <td>0</td>\n",
              "      <td>0</td>\n",
              "      <td>0</td>\n",
              "      <td>0.046259</td>\n",
              "      <td>0.737447</td>\n",
              "      <td>-1.378701</td>\n",
              "      <td>0.0</td>\n",
              "      <td>0.000000</td>\n",
              "      <td>0.784829</td>\n",
              "      <td>0.577370</td>\n",
              "    </tr>\n",
              "  </tbody>\n",
              "</table>\n",
              "</div>"
            ],
            "text/plain": [
              "   Gender  ...  Mean_Premium_Per_Policy_Sales_Channel\n",
              "0       0  ...                               0.632666\n",
              "1       0  ...                               0.632666\n",
              "2       0  ...                               0.632666\n",
              "3       0  ...                               0.577370\n",
              "4       1  ...                               0.577370\n",
              "\n",
              "[5 rows x 14 columns]"
            ]
          },
          "metadata": {},
          "execution_count": 46
        }
      ]
    },
    {
      "cell_type": "markdown",
      "source": [
        "## Train / Validation / Test split\n",
        "Separate train and test data from all data dataset"
      ],
      "metadata": {
        "id": "pls_w46PXCBy"
      }
    },
    {
      "cell_type": "code",
      "source": [
        "train_x = all_data[:ntrain]\n",
        "test_x = all_data[ntrain:]"
      ],
      "metadata": {
        "id": "6L2YN6oCU9vH"
      },
      "execution_count": null,
      "outputs": []
    },
    {
      "cell_type": "code",
      "source": [
        "#Importing train_test split\n",
        "from sklearn.model_selection import train_test_split\n",
        "X_train, X_test, y_train, y_test = train_test_split(train_x,y,test_size=0.10,random_state=42)"
      ],
      "metadata": {
        "id": "2hw19S59XZYy"
      },
      "execution_count": null,
      "outputs": []
    },
    {
      "cell_type": "markdown",
      "source": [
        "## Model development\n",
        "This is a classification proble, so I can develop classification model to predict the results.\n",
        "\n",
        "I decided to developing a Neural Network for predicting the values. I used RMSprop optimization algorithm for optimizing loss function. "
      ],
      "metadata": {
        "id": "7o1vE0veZpRm"
      }
    },
    {
      "cell_type": "code",
      "source": [
        "#!pip install keras\n",
        "import tensorflow as tf\n",
        "from tensorflow import keras\n",
        "from tensorflow.keras import layers\n",
        "\n",
        "METRICS = [\n",
        "      keras.metrics.TruePositives(name='tp'),\n",
        "      keras.metrics.FalsePositives(name='fp'),\n",
        "      keras.metrics.TrueNegatives(name='tn'),\n",
        "      keras.metrics.FalseNegatives(name='fn'), \n",
        "      keras.metrics.BinaryAccuracy(name='accuracy'),\n",
        "      keras.metrics.Precision(name='precision'),\n",
        "      keras.metrics.Recall(name='recall'),\n",
        "      keras.metrics.AUC(name='auc'),\n",
        "      keras.metrics.AUC(name='prc', curve='PR'), # precision-recall curve\n",
        "]\n",
        "\n",
        "def make_model(metrics = METRICS, output_bias=None):\n",
        "  if output_bias is not None:\n",
        "      output_bias = tf.keras.initilizers.Constant(output_bias)\n",
        "  model = keras.Sequential([\n",
        "    keras.layers.Dense(\n",
        "        16, activation= 'relu',\n",
        "        input_shape = (X_train.shape[-1],)),\n",
        "    keras.layers.Dense(\n",
        "        32,activation='relu'),\n",
        "    keras.layers.Dropout(0.5),\n",
        "    keras.layers.Dense(1, activation='sigmoid',\n",
        "                       bias_initializer=output_bias),                       \n",
        "  ])\n",
        "\n",
        "  model.compile(\n",
        "      optimizer = keras.optimizers.RMSprop(lr=0.001),\n",
        "      loss = keras.losses.BinaryCrossentropy(),\n",
        "      metrics = metrics)\n",
        "  \n",
        "  return model"
      ],
      "metadata": {
        "id": "huAqvYQvXzIs"
      },
      "execution_count": null,
      "outputs": []
    },
    {
      "cell_type": "markdown",
      "source": [
        "Then I train the model for 100 epochs. To keep track of how well the model is performing for each epoch, the model will run in both train and test data along with calculating the loss function"
      ],
      "metadata": {
        "id": "3cVYV5Bucza5"
      }
    },
    {
      "cell_type": "code",
      "source": [
        "EPOCHS = 100\n",
        "BATCH_SIZE = 2048\n",
        "\n",
        "early_stopping = tf.keras.callbacks.EarlyStopping(\n",
        "    monitor='val_prc', \n",
        "    verbose=1,\n",
        "    patience=15,\n",
        "    mode='max',\n",
        "    restore_best_weights=True)"
      ],
      "metadata": {
        "id": "WHk1jnj5bqIu"
      },
      "execution_count": null,
      "outputs": []
    },
    {
      "cell_type": "code",
      "source": [
        "import sklearn\n",
        "from sklearn.metrics import confusion_matrix\n",
        "from sklearn.model_selection import train_test_split\n",
        "from sklearn.preprocessing import StandardScaler"
      ],
      "metadata": {
        "id": "Y1ZV6GAIeHUU"
      },
      "execution_count": null,
      "outputs": []
    },
    {
      "cell_type": "code",
      "source": [
        "model = make_model()\n",
        "model.summary()"
      ],
      "metadata": {
        "colab": {
          "base_uri": "https://localhost:8080/"
        },
        "id": "jTe_VUppdI13",
        "outputId": "9437ad3b-f018-4ed8-ae4f-c9ae969627fd"
      },
      "execution_count": null,
      "outputs": [
        {
          "output_type": "stream",
          "name": "stdout",
          "text": [
            "Model: \"sequential_14\"\n",
            "_________________________________________________________________\n",
            " Layer (type)                Output Shape              Param #   \n",
            "=================================================================\n",
            " dense_44 (Dense)            (None, 16)                240       \n",
            "                                                                 \n",
            " dense_45 (Dense)            (None, 32)                544       \n",
            "                                                                 \n",
            " dropout_14 (Dropout)        (None, 32)                0         \n",
            "                                                                 \n",
            " dense_46 (Dense)            (None, 1)                 33        \n",
            "                                                                 \n",
            "=================================================================\n",
            "Total params: 817\n",
            "Trainable params: 817\n",
            "Non-trainable params: 0\n",
            "_________________________________________________________________\n"
          ]
        },
        {
          "output_type": "stream",
          "name": "stderr",
          "text": [
            "/usr/local/lib/python3.7/dist-packages/keras/optimizer_v2/rmsprop.py:130: UserWarning: The `lr` argument is deprecated, use `learning_rate` instead.\n",
            "  super(RMSprop, self).__init__(name, **kwargs)\n"
          ]
        }
      ]
    },
    {
      "cell_type": "markdown",
      "source": [
        "## Evaluating\n",
        "\n",
        "For classification tasks I used Area under the Curve (AUC)"
      ],
      "metadata": {
        "id": "YuOC9o_memgZ"
      }
    },
    {
      "cell_type": "code",
      "source": [
        "from sklearn.metrics import accuracy_score, f1_score, auc, roc_curve\n",
        "y_pred = model.predict(X_test) # idk the reason for predict_proba\n",
        "\n",
        "frp,trp, threshold = roc_curve(y_test,y_pred)\n",
        "\n",
        "roc_auc = auc(frp,trp)\n"
      ],
      "metadata": {
        "id": "6otYlfwvdhVp"
      },
      "execution_count": null,
      "outputs": []
    },
    {
      "cell_type": "code",
      "source": [
        "#Plotting results\n",
        "plt.title('Receiver Operating Characteristics Curve')\n",
        "plt.plot(frp,trp,'r',label = 'AUC = %0.3f' % roc_auc)\n",
        "plt.legend(loc='lower right')\n",
        "plt.plot([0,1],[0,1],'b--')\n",
        "plt.ylabel('True positive rate')\n",
        "plt.xlabel('False positive rate')"
      ],
      "metadata": {
        "colab": {
          "base_uri": "https://localhost:8080/",
          "height": 312
        },
        "id": "42TJE8iie-mW",
        "outputId": "bfe6e9fd-f1f2-4052-836d-4edf4ce84ec6"
      },
      "execution_count": null,
      "outputs": [
        {
          "output_type": "execute_result",
          "data": {
            "text/plain": [
              "Text(0.5, 0, 'False positive rate')"
            ]
          },
          "metadata": {},
          "execution_count": 142
        },
        {
          "output_type": "display_data",
          "data": {
            "image/png": "[encoded data removed]",
            "text/plain": [
              "<Figure size 432x288 with 1 Axes>"
            ]
          },
          "metadata": {
            "needs_background": "light"
          }
        }
      ]
    },
    {
      "cell_type": "markdown",
      "source": [
        "#Prediction"
      ],
      "metadata": {
        "id": "o7dB_gBajF5f"
      }
    },
    {
      "cell_type": "code",
      "source": [
        "y_pred_test = model.predict(test_x, batch_size = BATCH_SIZE)\n",
        "Prediction = pd.DataFrame(y_pred_test)\n",
        "Prediction\n",
        "\n"
      ],
      "metadata": {
        "colab": {
          "base_uri": "https://localhost:8080/",
          "height": 419
        },
        "id": "UjQ3gcxDiIEs",
        "outputId": "03d1b5dc-cd9c-4890-bb70-f1d7fff9bdf0"
      },
      "execution_count": null,
      "outputs": [
        {
          "output_type": "execute_result",
          "data": {
            "text/html": [
              "<div>\n",
              "<style scoped>\n",
              "    .dataframe tbody tr th:only-of-type {\n",
              "        vertical-align: middle;\n",
              "    }\n",
              "\n",
              "    .dataframe tbody tr th {\n",
              "        vertical-align: top;\n",
              "    }\n",
              "\n",
              "    .dataframe thead th {\n",
              "        text-align: right;\n",
              "    }\n",
              "</style>\n",
              "<table border=\"1\" class=\"dataframe\">\n",
              "  <thead>\n",
              "    <tr style=\"text-align: right;\">\n",
              "      <th></th>\n",
              "      <th>0</th>\n",
              "    </tr>\n",
              "  </thead>\n",
              "  <tbody>\n",
              "    <tr>\n",
              "      <th>0</th>\n",
              "      <td>0.175748</td>\n",
              "    </tr>\n",
              "    <tr>\n",
              "      <th>1</th>\n",
              "      <td>0.243675</td>\n",
              "    </tr>\n",
              "    <tr>\n",
              "      <th>2</th>\n",
              "      <td>0.261087</td>\n",
              "    </tr>\n",
              "    <tr>\n",
              "      <th>3</th>\n",
              "      <td>0.231076</td>\n",
              "    </tr>\n",
              "    <tr>\n",
              "      <th>4</th>\n",
              "      <td>0.223528</td>\n",
              "    </tr>\n",
              "    <tr>\n",
              "      <th>...</th>\n",
              "      <td>...</td>\n",
              "    </tr>\n",
              "    <tr>\n",
              "      <th>127032</th>\n",
              "      <td>0.182794</td>\n",
              "    </tr>\n",
              "    <tr>\n",
              "      <th>127033</th>\n",
              "      <td>0.247682</td>\n",
              "    </tr>\n",
              "    <tr>\n",
              "      <th>127034</th>\n",
              "      <td>0.176659</td>\n",
              "    </tr>\n",
              "    <tr>\n",
              "      <th>127035</th>\n",
              "      <td>0.211099</td>\n",
              "    </tr>\n",
              "    <tr>\n",
              "      <th>127036</th>\n",
              "      <td>0.236506</td>\n",
              "    </tr>\n",
              "  </tbody>\n",
              "</table>\n",
              "<p>127037 rows × 1 columns</p>\n",
              "</div>"
            ],
            "text/plain": [
              "               0\n",
              "0       0.175748\n",
              "1       0.243675\n",
              "2       0.261087\n",
              "3       0.231076\n",
              "4       0.223528\n",
              "...          ...\n",
              "127032  0.182794\n",
              "127033  0.247682\n",
              "127034  0.176659\n",
              "127035  0.211099\n",
              "127036  0.236506\n",
              "\n",
              "[127037 rows x 1 columns]"
            ]
          },
          "metadata": {},
          "execution_count": 150
        }
      ]
    },
    {
      "cell_type": "code",
      "source": [
        "sns.distplot(Prediction)\n",
        "plt.title(\"Distribution of Predictions\")"
      ],
      "metadata": {
        "colab": {
          "base_uri": "https://localhost:8080/",
          "height": 352
        },
        "id": "ejWHcflVjQB1",
        "outputId": "412a9f13-5e51-459c-9849-03f9625aec80"
      },
      "execution_count": null,
      "outputs": [
        {
          "output_type": "stream",
          "name": "stderr",
          "text": [
            "/usr/local/lib/python3.7/dist-packages/seaborn/distributions.py:2619: FutureWarning: `distplot` is a deprecated function and will be removed in a future version. Please adapt your code to use either `displot` (a figure-level function with similar flexibility) or `histplot` (an axes-level function for histograms).\n",
            "  warnings.warn(msg, FutureWarning)\n"
          ]
        },
        {
          "output_type": "execute_result",
          "data": {
            "text/plain": [
              "Text(0.5, 1.0, 'Distribution of Prediction')"
            ]
          },
          "metadata": {},
          "execution_count": 144
        },
        {
          "output_type": "display_data",
          "data": {
            "image/png": "[encoded data removed]",
            "text/plain": [
              "<Figure size 432x288 with 1 Axes>"
            ]
          },
          "metadata": {
            "needs_background": "light"
          }
        }
      ]
    },
    {
      "cell_type": "code",
      "source": [],
      "metadata": {
        "id": "ASRtQmoajSQt"
      },
      "execution_count": null,
      "outputs": []
    }
  ]
}